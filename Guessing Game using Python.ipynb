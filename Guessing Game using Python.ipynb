{
 "cells": [
  {
   "cell_type": "code",
   "execution_count": 1,
   "id": "279b8d3c",
   "metadata": {},
   "outputs": [],
   "source": [
    "import random"
   ]
  },
  {
   "cell_type": "code",
   "execution_count": 2,
   "id": "7b63cf7f",
   "metadata": {},
   "outputs": [],
   "source": [
    "def guessing_game():\n",
    "    jackpot=random.randint(1,100)\n",
    "    print('The Guessing game Begins!!!')\n",
    "    guess_num=int(input(\"Guess your number b/w 1 to 100  \"))\n",
    "    count=1\n",
    "    while guess_num!=jackpot:\n",
    "        if guess_num <jackpot:\n",
    "            print('Guess the number higher than this....')\n",
    "        else:\n",
    "            print('Guess the number lower than this....')\n",
    "        print('Try again')\n",
    "        guess_num=int(input(\"Its ok guess your number one more time\"))\n",
    "        count+=1\n",
    "    print(f'Hurray!! you guessed it right!! {guess_num}')\n",
    "    print(f'You took {count} chances')"
   ]
  },
  {
   "cell_type": "code",
   "execution_count": 3,
   "id": "b4446bca",
   "metadata": {},
   "outputs": [
    {
     "name": "stdout",
     "output_type": "stream",
     "text": [
      "The Guessing game Begins!!!\n",
      "Guess your number b/w 1 to 100  3\n",
      "Guess the number higher than this....\n",
      "Try again\n",
      "Its ok guess your number one more time7\n",
      "Guess the number higher than this....\n",
      "Try again\n",
      "Its ok guess your number one more time10\n",
      "Guess the number higher than this....\n",
      "Try again\n",
      "Its ok guess your number one more time45\n",
      "Guess the number higher than this....\n",
      "Try again\n",
      "Its ok guess your number one more time55\n",
      "Guess the number lower than this....\n",
      "Try again\n",
      "Its ok guess your number one more time50\n",
      "Guess the number higher than this....\n",
      "Try again\n",
      "Its ok guess your number one more time53\n",
      "Guess the number lower than this....\n",
      "Try again\n",
      "Its ok guess your number one more time52\n",
      "Guess the number lower than this....\n",
      "Try again\n",
      "Its ok guess your number one more time51\n",
      "Hurray!! you guessed it right!! 51\n",
      "You took 9 chances\n"
     ]
    }
   ],
   "source": [
    "guessing_game()"
   ]
  },
  {
   "cell_type": "code",
   "execution_count": null,
   "id": "d816654f",
   "metadata": {},
   "outputs": [],
   "source": []
  }
 ],
 "metadata": {
  "kernelspec": {
   "display_name": "Python 3 (ipykernel)",
   "language": "python",
   "name": "python3"
  },
  "language_info": {
   "codemirror_mode": {
    "name": "ipython",
    "version": 3
   },
   "file_extension": ".py",
   "mimetype": "text/x-python",
   "name": "python",
   "nbconvert_exporter": "python",
   "pygments_lexer": "ipython3",
   "version": "3.11.5"
  }
 },
 "nbformat": 4,
 "nbformat_minor": 5
}
